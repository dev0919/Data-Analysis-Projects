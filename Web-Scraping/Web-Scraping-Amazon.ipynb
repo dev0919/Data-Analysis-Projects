{
 "cells": [
  {
   "cell_type": "code",
   "execution_count": 1,
   "id": "41a03323-5927-402d-9fe5-e28aa12cd82d",
   "metadata": {},
   "outputs": [],
   "source": [
    "from bs4 import BeautifulSoup\n",
    "import requests\n",
    "import time\n",
    "import datetime\n",
    "import smtplib"
   ]
  },
  {
   "cell_type": "code",
   "execution_count": 50,
   "id": "4782e1af-b065-4355-aa40-2c3875f980b2",
   "metadata": {},
   "outputs": [
    {
     "name": "stdout",
     "output_type": "stream",
     "text": [
      "\n",
      "             BenQ GW2490 24\" 1920x1080p FHD IPS Monitor| 100Hz|99% sRGB|Eye-careU|Dual HDMI|Display Port|Bezel-Less|Eyesafe|VESA MediaSync|B.I.|Low Blue Light+| Speakers|VESA Wall mountable(Black)\n",
      "            \n",
      "\n",
      "                            8,250\n",
      "                            \n",
      "                             .\n",
      "                            \n",
      "\n"
     ]
    }
   ],
   "source": [
    "URL = 'https://www.amazon.in/BenQ-GW2490-Bezel-less-Brightness-Intelligence/dp/B0CQ2VKBMH/ref=sr_1_3?crid=2CO0T9LTQJX7B&dib=eyJ2IjoiMSJ9.XLGw0FBqhNaWWqYaL4vOBSOxDK0xKwCPIz_nHooSkG7n4C9vtjWGZSPeDPJIh6x168LBSTc_IWTsIGRszdW6gMw31UneA4jXf5k0Y-OE-urAv0WrIJZYJuXKKezHc_Jc61RyoI793fhhG5F0mUXSU_EgeBXgc2LLRx1ytBujXAEqwSwZpkxOifll-QD5kXMsABm6dX4ewC_Bv7ilgpXJw4mdPIXXYvYEIAT21Tr0HpI.5gC7ExxnDkWPIZjhKwAw-Zk0ESE1SPPBJgKr3PIuZ6o&dib_tag=se&keywords=benq+monitor&nsdOptOutParam=true&qid=1744621843&sprefix=benq+monito%2Caps%2C255&sr=8-3'\n",
    "headers={ \"User-Agent\":\"Mozilla/5.0 (Macintosh; Intel Mac OS X 10_15_7) AppleWebKit/537.36 (KHTML, like Gecko) Chrome/135.0.0.0 Safari/537.36\"}\n",
    "page= requests.get(URL, headers=headers)\n",
    "soup1=BeautifulSoup(page.content,'html.parser')\n",
    "soup2=BeautifulSoup(soup1.prettify(),'html.parser')\n",
    "\n",
    "title = soup2.find(id='productTitle').get_text()\n",
    "price = soup2.find('span', class_='a-price-whole').get_text()\n",
    "print(title)\n",
    "print(price)\n"
   ]
  },
  {
   "cell_type": "code",
   "execution_count": 51,
   "id": "cf2b874e-5866-48f4-80b8-8c8b13da4868",
   "metadata": {},
   "outputs": [
    {
     "name": "stdout",
     "output_type": "stream",
     "text": [
      "BenQ GW2490 24\" 1920x1080p FHD IPS Monitor| 100Hz|99% sRGB|Eye-careU|Dual HDMI|Display Port|Bezel-Less|Eyesafe|VESA MediaSync|B.I.|Low Blue Light+| Speakers|VESA Wall mountable(Black)\n",
      "8,250\n",
      "                            \n",
      "                             .\n"
     ]
    }
   ],
   "source": [
    "price = price.strip()\n",
    "title = title.strip()\n",
    "\n",
    "print(title)\n",
    "print(price)"
   ]
  },
  {
   "cell_type": "code",
   "execution_count": 56,
   "id": "4b9f5e63-7f33-431a-8482-936d318462f0",
   "metadata": {},
   "outputs": [
    {
     "name": "stdout",
     "output_type": "stream",
     "text": [
      "2025-04-14\n"
     ]
    }
   ],
   "source": [
    "today=datetime.date.today()\n",
    "print(today)"
   ]
  },
  {
   "cell_type": "code",
   "execution_count": 60,
   "id": "6c77103d-39b0-43c2-ba19-6ffc889eef15",
   "metadata": {},
   "outputs": [],
   "source": [
    "import csv\n",
    "header=['Title', 'Price', 'Date']\n",
    "data=[title,price,today]\n",
    "with open('AmazonWebScraperDataset.csv', 'w', newline='', encoding='UTF8') as f:\n",
    "    writer = csv.writer(f)\n",
    "    writer.writerow(header)\n",
    "    writer.writerow(data)"
   ]
  },
  {
   "cell_type": "code",
   "execution_count": 62,
   "id": "88513d31-4162-43fa-a5d0-c3855e724674",
   "metadata": {},
   "outputs": [
    {
     "name": "stdout",
     "output_type": "stream",
     "text": [
      "                                               Title  \\\n",
      "0  BenQ GW2490 24\" 1920x1080p FHD IPS Monitor| 10...   \n",
      "\n",
      "                                               Price        Date  \n",
      "0  8,250\\n                            \\n         ...  2025-04-14  \n"
     ]
    }
   ],
   "source": [
    "import pandas as pd\n",
    "df=pd.read_csv(r'/Users/devansharora/Downloads/AmazonWebScraperDataset.csv')\n",
    "print(df)"
   ]
  },
  {
   "cell_type": "code",
   "execution_count": 66,
   "id": "138eb5ef-d08c-4d55-898a-f844b995729f",
   "metadata": {},
   "outputs": [],
   "source": [
    "#Now we are appending data to the csv\n",
    "\n",
    "with open(r'/Users/devansharora/Downloads/AmazonWebScraperDataset.csv', 'a+', newline='', encoding='UTF8') as f:\n",
    "    writer = csv.writer(f)\n",
    "    writer.writerow(data)"
   ]
  },
  {
   "cell_type": "code",
   "execution_count": 72,
   "id": "7df4cf5e-5a6e-4e84-a148-62cfe8adce65",
   "metadata": {},
   "outputs": [],
   "source": [
    "def check_price():\n",
    "    URL = 'https://www.amazon.in/BenQ-GW2490-Bezel-less-Brightness-Intelligence/dp/B0CQ2VKBMH/ref=sr_1_3?crid=2CO0T9LTQJX7B&dib=eyJ2IjoiMSJ9.XLGw0FBqhNaWWqYaL4vOBSOxDK0xKwCPIz_nHooSkG7n4C9vtjWGZSPeDPJIh6x168LBSTc_IWTsIGRszdW6gMw31UneA4jXf5k0Y-OE-urAv0WrIJZYJuXKKezHc_Jc61RyoI793fhhG5F0mUXSU_EgeBXgc2LLRx1ytBujXAEqwSwZpkxOifll-QD5kXMsABm6dX4ewC_Bv7ilgpXJw4mdPIXXYvYEIAT21Tr0HpI.5gC7ExxnDkWPIZjhKwAw-Zk0ESE1SPPBJgKr3PIuZ6o&dib_tag=se&keywords=benq+monitor&nsdOptOutParam=true&qid=1744621843&sprefix=benq+monito%2Caps%2C255&sr=8-3'\n",
    "    headers={ \"User-Agent\":\"Mozilla/5.0 (Macintosh; Intel Mac OS X 10_15_7) AppleWebKit/537.36 (KHTML, like Gecko) Chrome/135.0.0.0 Safari/537.36\"}\n",
    "    page= requests.get(URL, headers=headers)\n",
    "    soup1=BeautifulSoup(page.content,'html.parser')\n",
    "    soup2=BeautifulSoup(soup1.prettify(),'html.parser')\n",
    "\n",
    "    title = soup2.find(id='productTitle').get_text()\n",
    "    price = soup2.find('span', class_='a-price-whole').get_text()\n",
    "    import datetime\n",
    "    today=datetime.date.today()\n",
    "    import csv\n",
    "    header=['Title', 'Price', 'Date']\n",
    "    data=[title,price,today]\n",
    "    with open('AmazonWebScraperDataset.csv', 'w', newline='', encoding='UTF8') as f:\n",
    "        writer = csv.writer(f)\n",
    "        writer.writerow(data)\n",
    "        \n",
    "    "
   ]
  },
  {
   "cell_type": "code",
   "execution_count": null,
   "id": "73171332-5591-49a3-9f05-85499d6a57b6",
   "metadata": {},
   "outputs": [],
   "source": [
    "while(True):\n",
    "    check_price()\n",
    "    time.sleep(86400)"
   ]
  },
  {
   "cell_type": "code",
   "execution_count": null,
   "id": "b88e10ea-2687-41d0-a49f-fa0ca479ffa8",
   "metadata": {},
   "outputs": [],
   "source": [
    "import pandas as pd\n",
    "df=pd.read_csv(r'/Users/devansharora/Downloads/AmazonWebScraperDataset.csv')\n",
    "print(df)"
   ]
  },
  {
   "cell_type": "code",
   "execution_count": null,
   "id": "9f959052-ffca-42fc-814c-7f7808d4076d",
   "metadata": {},
   "outputs": [],
   "source": [
    "# If uou want to try sending yourself an email (just for fun) when a price hits below a certain level you can try it\n",
    "# out with this script\n",
    "\n",
    "def send_mail():\n",
    "    server = smtplib.SMTP_SSL('smtp.gmail.com',465)\n",
    "    server.ehlo()\n",
    "    #server.starttls()\n",
    "    server.ehlo()\n",
    "    server.login('AlexTheAnalyst95@gmail.com','xxxxxxxxxxxxxx')# use your actual password or save in a env file\n",
    "    \n",
    "    subject = \"The Shirt you want is below $15! Now is your chance to buy!\"\n",
    "    body = \"Alex, This is the moment we have been waiting for. Now is your chance to pick up the shirt of your dreams. Don't mess it up! Link here: https://www.amazon.com/Funny-Data-Systems-Business-Analyst/dp/B07FNW9FGJ/ref=sr_1_3?dchild=1&keywords=data+analyst+tshirt&qid=1626655184&sr=8-3\"\n",
    "   \n",
    "    msg = f\"Subject: {subject}\\n\\n{body}\"\n",
    "    \n",
    "    server.sendmail(\n",
    "        'AlexTheAnalyst95@gmail.com',\n",
    "        msg\n",
    "     \n",
    "    )"
   ]
  }
 ],
 "metadata": {
  "kernelspec": {
   "display_name": "Python [conda env:base] *",
   "language": "python",
   "name": "conda-base-py"
  },
  "language_info": {
   "codemirror_mode": {
    "name": "ipython",
    "version": 3
   },
   "file_extension": ".py",
   "mimetype": "text/x-python",
   "name": "python",
   "nbconvert_exporter": "python",
   "pygments_lexer": "ipython3",
   "version": "3.12.7"
  }
 },
 "nbformat": 4,
 "nbformat_minor": 5
}
